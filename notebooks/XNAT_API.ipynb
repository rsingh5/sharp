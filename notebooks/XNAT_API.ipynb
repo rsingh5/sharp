{
 "cells": [
  {
   "cell_type": "markdown",
   "metadata": {},
   "source": [
    "# SHARP : A Combined Approach For Cognitive Enhancement In Humans!"
   ]
  },
  {
   "cell_type": "markdown",
   "metadata": {},
   "source": [
    "## SHARP Repository Working APIs"
   ]
  },
  {
   "cell_type": "markdown",
   "metadata": {},
   "source": [
    "It's a guide to get you started with your analysis using PyXNAT and to work with the subject data. API can help to download the data and run analysis in an interactive mode. This nodebook is also a guide to record steps required to working with SHARP XNAT!!!"
   ]
  },
  {
   "cell_type": "markdown",
   "metadata": {},
   "source": [
    "### Download PyXNAT Module"
   ]
  },
  {
   "cell_type": "code",
   "execution_count": null,
   "metadata": {
    "collapsed": true
   },
   "outputs": [],
   "source": [
    "!pip install pyxnat"
   ]
  },
  {
   "cell_type": "markdown",
   "metadata": {},
   "source": [
    "#### Connect to server: Enter user : password "
   ]
  },
  {
   "cell_type": "code",
   "execution_count": 1,
   "metadata": {},
   "outputs": [
    {
     "name": "stdout",
     "output_type": "stream",
     "text": [
      "User: admin\n",
      "········\n"
     ]
    },
    {
     "data": {
      "text/plain": [
       "['AUTISM', 'BROAD', 'Dystonia', 'MCI', 'TMS_DEPRESSION']"
      ]
     },
     "execution_count": 1,
     "metadata": {},
     "output_type": "execute_result"
    }
   ],
   "source": [
    "import pyxnat\n",
    "import os\n",
    "\n",
    "# connect to XNAT instance\n",
    "from pyxnat import Interface\n",
    "#xnat = Interface(server='https://sharp.bidmc.harvard.edu', user='demo', password='demo123', cachedir='/tmp')\n",
    "xnat = Interface(server='http://xnat.bidmc.harvard.edu:8080',  cachedir='/tmp')\n",
    "xnat.select.projects().get()"
   ]
  },
  {
   "cell_type": "markdown",
   "metadata": {},
   "source": [
    "#### Different types of datatypes supported by SHARP XNAT"
   ]
  },
  {
   "cell_type": "code",
   "execution_count": 2,
   "metadata": {},
   "outputs": [
    {
     "data": {
      "text/plain": [
       "['xnat:qcAssessmentData',\n",
       " 'xnat:investigatorData',\n",
       " 'xnat:qcManualAssessorData',\n",
       " 'xnat:petmrSessionData',\n",
       " 'xnat:rtImageScanData',\n",
       " 'xnat:subjectData',\n",
       " 'xnat:crSessionData',\n",
       " 'val:protocolData',\n",
       " 'xnat:petSessionData',\n",
       " 'xnat:pVisitData',\n",
       " 'xnat:mrSessionData',\n",
       " 'xnat:ctSessionData',\n",
       " 'xnat:projectData',\n",
       " 'behavioral:scores']"
      ]
     },
     "execution_count": 2,
     "metadata": {},
     "output_type": "execute_result"
    }
   ],
   "source": [
    "xnat.inspect.datatypes()"
   ]
  },
  {
   "cell_type": "code",
   "execution_count": 4,
   "metadata": {},
   "outputs": [
    {
     "data": {
      "text/plain": [
       "65"
      ]
     },
     "execution_count": 4,
     "metadata": {},
     "output_type": "execute_result"
    }
   ],
   "source": [
    "xnat.select('/projects/*/subjects').get().__len__()"
   ]
  },
  {
   "cell_type": "code",
   "execution_count": 5,
   "metadata": {},
   "outputs": [
    {
     "data": {
      "text/plain": [
       "['XNAT_S00011',\n",
       " 'XNAT_S00012',\n",
       " 'XNAT_S00013',\n",
       " 'XNAT_S00014',\n",
       " 'XNAT_S00015',\n",
       " 'XNAT_S00016',\n",
       " 'XNAT_S00017',\n",
       " 'XNAT_S00018',\n",
       " 'XNAT_S00019',\n",
       " 'XNAT_S00020',\n",
       " 'XNAT_S00021',\n",
       " 'XNAT_S00052']"
      ]
     },
     "execution_count": 5,
     "metadata": {},
     "output_type": "execute_result"
    }
   ],
   "source": [
    "xnat.select('/projects/Dystonia/subjects').get()"
   ]
  },
  {
   "cell_type": "code",
   "execution_count": 5,
   "metadata": {},
   "outputs": [
    {
     "data": {
      "text/plain": [
       "75"
      ]
     },
     "execution_count": 5,
     "metadata": {},
     "output_type": "execute_result"
    }
   ],
   "source": [
    "contraints = [('xnat:subjectData/SUBJECT_ID','LIKE','%'),\n",
    "                  ('behavioral:scores/VocabScore', '>=', '36'),\n",
    "                  'AND',\n",
    "                  ]\n",
    "table = xnat.select('xnat:subjectData', ['xnat:subjectData/PROJECT','xnat:subjectData/SUBJECT_ID','xnat:subjectData/SUBJECT_LABEL']).where(contraints)\n",
    "table.__len__()"
   ]
  },
  {
   "cell_type": "code",
   "execution_count": 6,
   "metadata": {},
   "outputs": [
    {
     "name": "stdout",
     "output_type": "stream",
     "text": [
      "project,subject_id,subject_label\r\n",
      "FAST,SHARP_S00017,0127\r\n",
      "FAST,SHARP_S00463,0121\r\n",
      "FAST,SHARP_S00462,0001\r\n",
      "FAST,SHARP_S00447,0025\r\n",
      "FAST,SHARP_S00441,0060\r\n",
      "FAST,SHARP_S00322,0014\r\n",
      "FAST,SHARP_S00397,0112\r\n",
      "FAST,SHARP_S00405,0017\r\n",
      "FAST,SHARP_S00018,0021\r\n",
      "FAST,SHARP_S00211,0047\r\n",
      "FAST,SHARP_S00306,0082\r\n",
      "FAST,SHARP_S00252,0075\r\n",
      "FAST,SHARP_S00425,0094\r\n",
      "FAST,SHARP_S00203,0102\r\n",
      "FAST,SHARP_S00025,0067\r\n",
      "FAST,SHARP_S00410,0051\r\n",
      "FAST,SHARP_S00307,0084\r\n",
      "FAST,SHARP_S00399,0120\r\n",
      "INSIGHT,SHARP_S00114,4194\r\n",
      "INSIGHT,SHARP_S00043,4025\r\n",
      "INSIGHT,SHARP_S00361,4570\r\n",
      "INSIGHT,SHARP_S00178,4329\r\n",
      "INSIGHT,SHARP_S00100,4181\r\n",
      "INSIGHT,SHARP_S00379,4601\r\n",
      "INSIGHT,SHARP_S00323,4511\r\n",
      "INSIGHT,SHARP_S00176,4323\r\n",
      "INSIGHT,SHARP_S00308,4488\r\n",
      "INSIGHT,SHARP_S00149,4260\r\n",
      "INSIGHT,SHARP_S00218,4399\r\n",
      "INSIGHT,SHARP_S00275,4483\r\n",
      "INSIGHT,SHARP_S00131,4226\r\n",
      "INSIGHT,SHARP_S00185,4341\r\n",
      "INSIGHT,SHARP_S00042,4022\r\n",
      "INSIGHT,SHARP_S00029,4004\r\n",
      "INSIGHT,SHARP_S00117,4197\r\n",
      "INSIGHT,SHARP_S00339,4541\r\n",
      "INSIGHT,SHARP_S00159,4289\r\n",
      "INSIGHT,SHARP_S00174,4318\r\n",
      "INSIGHT,SHARP_S00138,4237\r\n",
      "INSIGHT,SHARP_S00058,4062\r\n",
      "INSIGHT,SHARP_S00066,4087\r\n",
      "INSIGHT,SHARP_S00325,4513\r\n",
      "INSIGHT,SHARP_S00161,4291\r\n",
      "INSIGHT,SHARP_S00229,4411\r\n",
      "INSIGHT,SHARP_S00092,4153\r\n",
      "INSIGHT,SHARP_S00173,4315\r\n",
      "INSIGHT,SHARP_S00183,4336\r\n",
      "INSIGHT,SHARP_S00060,4064\r\n",
      "INSIGHT,SHARP_S00127,4216\r\n",
      "INSIGHT,SHARP_S00179,4330\r\n",
      "INSIGHT,SHARP_S00056,4059\r\n",
      "INSIGHT,SHARP_S00466,4441\r\n",
      "INSIGHT,SHARP_S00374,4591\r\n",
      "INSIGHT,SHARP_S00210,4387\r\n",
      "INSIGHT,SHARP_S00128,4222\r\n",
      "INSIGHT,SHARP_S00369,4582\r\n",
      "INSIGHT,SHARP_S00079,4131\r\n",
      "INSIGHT,SHARP_S00052,4049\r\n",
      "INSIGHT,SHARP_S00467,4171\r\n",
      "INSIGHT,SHARP_S00244,4435\r\n",
      "INSIGHT,SHARP_S00188,4347\r\n",
      "INSIGHT,SHARP_S00356,4563\r\n",
      "INSIGHT,SHARP_S00267,4470\r\n",
      "INSIGHT,SHARP_S00337,4539\r\n",
      "INSIGHT,SHARP_S00320,4505\r\n",
      "INSIGHT,SHARP_S00221,4402\r\n",
      "INSIGHT,SHARP_S00151,4264\r\n",
      "INSIGHT,SHARP_S00228,4408\r\n",
      "INSIGHT,SHARP_S00388,4426\r\n",
      "INSIGHT,SHARP_S00093,4154\r\n",
      "INSIGHT,SHARP_S00032,4009\r\n",
      "INSIGHT,SHARP_S00072,4118\r\n",
      "INSIGHT,SHARP_S00215,4398\r\n",
      "INSIGHT,SHARP_S00157,4278\r\n",
      "INSIGHT,SHARP_S00098,4174\r\n",
      "\n"
     ]
    }
   ],
   "source": [
    "print(table)"
   ]
  },
  {
   "cell_type": "code",
   "execution_count": 13,
   "metadata": {},
   "outputs": [
    {
     "data": {
      "text/plain": [
       "6"
      ]
     },
     "execution_count": 13,
     "metadata": {},
     "output_type": "execute_result"
    }
   ],
   "source": [
    "contraints = [('xnat:subjectData/SUBJECT_ID','LIKE','%'),\n",
    "                  ('behavioral:scores/VocabScore', '=', '36'),\n",
    "                  'AND', ('xnat:subjectData/PROJECT', '=', 'FAST')\n",
    "             ]\n",
    "table1 = xnat.select('xnat:subjectData').where(contraints)\n",
    "table1.__len__()"
   ]
  },
  {
   "cell_type": "code",
   "execution_count": 14,
   "metadata": {},
   "outputs": [
    {
     "name": "stdout",
     "output_type": "stream",
     "text": [
      "insert_date,insert_user,gender_text,handedness_text,dob,educ,ses,invest_csv,projects,project,sub_group,add_ids,race,ethnicity,xnat_col_subjectdatalabel\r\n",
      "2017-01-23 11:49:33.205,admin,U,,,,,,\",<FAST>\",FAST,,,,,0021\r\n",
      "2017-01-27 13:15:01.414,admin,U,,,,,,\",<FAST>\",FAST,,,,,0112\r\n",
      "2017-01-27 17:02:34.923,admin,U,,,,,,\",<FAST>\",FAST,,,,,0017\r\n",
      "2017-01-27 19:00:24.559,admin,U,,,,,,\",<FAST>\",FAST,,,,,0051\r\n",
      "2017-01-28 08:04:45.268,admin,U,,,,,,\",<FAST>\",FAST,,,,,0060\r\n",
      "2017-01-28 10:45:01.284,admin,U,,,,,,\",<FAST>\",FAST,,,,,0001\r\n",
      "\n"
     ]
    }
   ],
   "source": [
    "print(table1)"
   ]
  },
  {
   "cell_type": "code",
   "execution_count": 6,
   "metadata": {},
   "outputs": [
    {
     "name": "stdout",
     "output_type": "stream",
     "text": [
      "<Experiment Object> 51_OM\n"
     ]
    }
   ],
   "source": [
    "#experiment = xnat.select('xnat:mrSessionData').where([('xnat:subjectData/SUBJECT_ID','=','SHARP_S00114')])\n",
    "subject = xnat.select.project('BROAD').subject('51_OM')\n",
    "experiment = subject.experiment(\"51_OM\")\n",
    "print(experiment)"
   ]
  },
  {
   "cell_type": "code",
   "execution_count": 7,
   "metadata": {
    "scrolled": true
   },
   "outputs": [
    {
     "name": "stdout",
     "output_type": "stream",
     "text": [
      "<Collection Object> 4441661200\n"
     ]
    }
   ],
   "source": [
    "allscans = experiment.scans()\n",
    "print (allscans)"
   ]
  },
  {
   "cell_type": "code",
   "execution_count": 9,
   "metadata": {},
   "outputs": [
    {
     "data": {
      "text/plain": [
       "'/tmp/BROAD_51_OM_51_OM_scans_ALL.zip'"
      ]
     },
     "execution_count": 9,
     "metadata": {},
     "output_type": "execute_result"
    }
   ],
   "source": [
    "#allscans.download(\"/tmp/.\", type='ALL', extract=False)\n",
    "allscans.download(\"/tmp\", type='ALL', extract=False)"
   ]
  },
  {
   "cell_type": "code",
   "execution_count": 15,
   "metadata": {},
   "outputs": [
    {
     "name": "stdout",
     "output_type": "stream",
     "text": [
      "<Experiment Object> SHARP_E00643\n",
      "<Experiment Object> SHARP_E00644\n",
      "<Experiment Object> SHARP_E01711\n",
      "There are no scans to download\n",
      "<Experiment Object> SHARP_E00605\n",
      "<Experiment Object> SHARP_E00608\n",
      "<Experiment Object> SHARP_E01704\n",
      "There are no scans to download\n",
      "<Experiment Object> SHARP_E00033\n",
      "<Experiment Object> SHARP_E01663\n",
      "There are no scans to download\n",
      "<Experiment Object> SHARP_E00712\n",
      "<Experiment Object> SHARP_E01729\n",
      "There are no scans to download\n",
      "<Experiment Object> SHARP_E00746\n",
      "<Experiment Object> SHARP_E00747\n",
      "<Experiment Object> SHARP_E01745\n",
      "There are no scans to download\n",
      "<Experiment Object> SHARP_E01912\n",
      "There are no scans to download\n",
      "<Experiment Object> SHARP_E01913\n",
      "There are no scans to download\n",
      "<Experiment Object> SHARP_E00652\n",
      "<Experiment Object> SHARP_E00653\n",
      "<Experiment Object> SHARP_E01715\n",
      "There are no scans to download\n"
     ]
    }
   ],
   "source": [
    "list_subjects = xnat.select.project('FAST').subjects().where(contraints)\n",
    "for list_subject in list_subjects:\n",
    "    list_experiments = list_subject.experiments().where(contraints)\n",
    "    for list_experiment in list_experiments:\n",
    "        print list_experiment\n",
    "        scans = list_experiment.scans()\n",
    "        try:\n",
    "            scans.download(\"/tmp\", type='2,3', extract=False)\n",
    "        except:\n",
    "            print \"There are no scans to download\"\n",
    "        "
   ]
  },
  {
   "cell_type": "code",
   "execution_count": 16,
   "metadata": {
    "collapsed": true
   },
   "outputs": [],
   "source": [
    "subject = xnat.select.project('FAST').subject('0127')"
   ]
  },
  {
   "cell_type": "code",
   "execution_count": 18,
   "metadata": {},
   "outputs": [
    {
     "name": "stdout",
     "output_type": "stream",
     "text": [
      "<Collection Object> 4585399376\n"
     ]
    }
   ],
   "source": [
    "print subject.experiment().where()"
   ]
  },
  {
   "cell_type": "markdown",
   "metadata": {},
   "source": [
    "### How can I download all of the T1 scans for the session?\n",
    "You can substitute the scan TYPE in the uri at the scan identification level.\n",
    "/data/archive/projects/TEST/subjects/1/experiments/MR1/scans/T1/files?format=zip\n",
    "\n",
    "### You can also provide a comma delimited list of scan types.\n",
    "\n",
    "/data/archive/projects/TEST/subjects/1/experiments/MR1/scans/T1,T2/files?format=zip\n",
    "\n",
    "## Reconstruction Data\n",
    "Similar to Scan data access you can use the ALL keyword, comma-seperated lists of scan IDs, and reconstruction TYPEs in your URIs for downloading data.\n",
    "\n",
    "The template for Reconstruction file access is:\n",
    "\n",
    "/data/archive/projects/{PROJECT_ID}/subjects/{SUBJECT_ID}/experiments/{EXPT_ID}/reconstructions/{RECON ID or TYPE or ALL}/resources/{TYPE or ID}/files\n",
    "\n",
    "## Assessment Data\n",
    "Similar to scan and reconstruction access, you can use the ALL keyword and comma-seperated lists of assessor IDs in your URIs. However, instead of allowing the substitution of the TYPE attribute, you can use the XSI:TYPE of the data you are interested in.\n",
    "\n",
    "/data/archive/projects/{PROJECT_ID}/subjects/{SUBJECT_ID}/experiments/{EXPT_ID}/assessors/{ASSESS ID or xsi:type or ALL}/resources/{TYPE or ID}/files"
   ]
  },
  {
   "cell_type": "code",
   "execution_count": null,
   "metadata": {
    "collapsed": true
   },
   "outputs": [],
   "source": []
  }
 ],
 "metadata": {
  "kernelspec": {
   "display_name": "Python 2",
   "language": "python",
   "name": "python2"
  },
  "language_info": {
   "codemirror_mode": {
    "name": "ipython",
    "version": 2
   },
   "file_extension": ".py",
   "mimetype": "text/x-python",
   "name": "python",
   "nbconvert_exporter": "python",
   "pygments_lexer": "ipython2",
   "version": "2.7.13"
  }
 },
 "nbformat": 4,
 "nbformat_minor": 2
}
