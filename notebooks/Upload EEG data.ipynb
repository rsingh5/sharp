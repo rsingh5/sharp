{
 "cells": [
  {
   "cell_type": "code",
   "execution_count": 2,
   "metadata": {},
   "outputs": [
    {
     "name": "stdout",
     "output_type": "stream",
     "text": [
      "User: admin\n",
      "········\n"
     ]
    },
    {
     "data": {
      "text/plain": [
       "['SHARP_1A', 'FAST', 'INSIGHT', 'SHARP_2B']"
      ]
     },
     "execution_count": 2,
     "metadata": {},
     "output_type": "execute_result"
    }
   ],
   "source": [
    "import pyxnat\n",
    "import os\n",
    "\n",
    "# connect to XNAT instance\n",
    "from pyxnat import Interface\n",
    "xnat = Interface(server='http://sharp.bidmc.harvard.edu:8080',  cachedir='/tmp')\n",
    "xnat.select.projects().get()"
   ]
  },
  {
   "cell_type": "code",
   "execution_count": null,
   "metadata": {
    "collapsed": true
   },
   "outputs": [],
   "source": []
  }
 ],
 "metadata": {
  "kernelspec": {
   "display_name": "Python 2",
   "language": "python",
   "name": "python2"
  },
  "language_info": {
   "codemirror_mode": {
    "name": "ipython",
    "version": 2
   },
   "file_extension": ".py",
   "mimetype": "text/x-python",
   "name": "python",
   "nbconvert_exporter": "python",
   "pygments_lexer": "ipython2",
   "version": "2.7.13"
  }
 },
 "nbformat": 4,
 "nbformat_minor": 2
}
