{
 "cells": [
  {
   "cell_type": "code",
   "execution_count": 3,
   "metadata": {},
   "outputs": [
    {
     "name": "stdout",
     "output_type": "stream",
     "text": [
      "User: admin\n",
      "········\n"
     ]
    },
    {
     "data": {
      "text/plain": [
       "['SHARP_1A', 'FAST', 'INSIGHT', 'SHARP_2B']"
      ]
     },
     "execution_count": 3,
     "metadata": {},
     "output_type": "execute_result"
    }
   ],
   "source": [
    "import pyxnat\n",
    "import os\n",
    "\n",
    "# connect to XNAT instance\n",
    "from pyxnat import Interface\n",
    "xnat = Interface(server='https://sharp.bidmc.harvard.edu',  cachedir='/tmp')\n",
    "xnat.select.projects().get()"
   ]
  },
  {
   "cell_type": "code",
   "execution_count": 4,
   "metadata": {
    "collapsed": true
   },
   "outputs": [],
   "source": [
    "project = xnat.select.project('FAST')"
   ]
  },
  {
   "cell_type": "code",
   "execution_count": 5,
   "metadata": {
    "collapsed": true
   },
   "outputs": [],
   "source": [
    "subject =project.subject('0001')\n",
    "experiment = subject.experiment(\"0001_POST\")"
   ]
  },
  {
   "cell_type": "code",
   "execution_count": 13,
   "metadata": {},
   "outputs": [
    {
     "name": "stdout",
     "output_type": "stream",
     "text": [
      "/Users/raminder/Documents/Data/SHARP/SHARP_P1B_Structural_MRICON_PRE_POST/0001_POST\n",
      "/Users/raminder/Documents/Data/SHARP/SHARP_P1B_Structural_MRICON_PRE_POST/0001_PRE\n",
      "/Users/raminder/Documents/Data/SHARP/SHARP_P1B_Structural_MRICON_PRE_POST/0002_POST\n",
      "/Users/raminder/Documents/Data/SHARP/SHARP_P1B_Structural_MRICON_PRE_POST/0002_PRE\n",
      "/Users/raminder/Documents/Data/SHARP/SHARP_P1B_Structural_MRICON_PRE_POST/0003_POST\n",
      "/Users/raminder/Documents/Data/SHARP/SHARP_P1B_Structural_MRICON_PRE_POST/0003_PRE\n",
      "/Users/raminder/Documents/Data/SHARP/SHARP_P1B_Structural_MRICON_PRE_POST/0004_POST\n",
      "/Users/raminder/Documents/Data/SHARP/SHARP_P1B_Structural_MRICON_PRE_POST/0004_PRE\n",
      "/Users/raminder/Documents/Data/SHARP/SHARP_P1B_Structural_MRICON_PRE_POST/0005_POST\n",
      "/Users/raminder/Documents/Data/SHARP/SHARP_P1B_Structural_MRICON_PRE_POST/0005_PRE\n",
      "/Users/raminder/Documents/Data/SHARP/SHARP_P1B_Structural_MRICON_PRE_POST/0007_POST\n",
      "/Users/raminder/Documents/Data/SHARP/SHARP_P1B_Structural_MRICON_PRE_POST/0008_POST\n",
      "/Users/raminder/Documents/Data/SHARP/SHARP_P1B_Structural_MRICON_PRE_POST/0009_POST\n",
      "/Users/raminder/Documents/Data/SHARP/SHARP_P1B_Structural_MRICON_PRE_POST/0009_PRE\n",
      "/Users/raminder/Documents/Data/SHARP/SHARP_P1B_Structural_MRICON_PRE_POST/0010_POST\n",
      "/Users/raminder/Documents/Data/SHARP/SHARP_P1B_Structural_MRICON_PRE_POST/0010_PRE\n",
      "/Users/raminder/Documents/Data/SHARP/SHARP_P1B_Structural_MRICON_PRE_POST/0011_POST\n",
      "/Users/raminder/Documents/Data/SHARP/SHARP_P1B_Structural_MRICON_PRE_POST/0013_POST\n",
      "/Users/raminder/Documents/Data/SHARP/SHARP_P1B_Structural_MRICON_PRE_POST/0013_PRE\n",
      "/Users/raminder/Documents/Data/SHARP/SHARP_P1B_Structural_MRICON_PRE_POST/0014_PRE\n",
      "/Users/raminder/Documents/Data/SHARP/SHARP_P1B_Structural_MRICON_PRE_POST/0015_POST\n",
      "/Users/raminder/Documents/Data/SHARP/SHARP_P1B_Structural_MRICON_PRE_POST/0015_PRE\n",
      "/Users/raminder/Documents/Data/SHARP/SHARP_P1B_Structural_MRICON_PRE_POST/0016_POST\n",
      "/Users/raminder/Documents/Data/SHARP/SHARP_P1B_Structural_MRICON_PRE_POST/0016_PRE\n",
      "/Users/raminder/Documents/Data/SHARP/SHARP_P1B_Structural_MRICON_PRE_POST/0017_POST\n",
      "/Users/raminder/Documents/Data/SHARP/SHARP_P1B_Structural_MRICON_PRE_POST/0017_PRE\n",
      "/Users/raminder/Documents/Data/SHARP/SHARP_P1B_Structural_MRICON_PRE_POST/0019_PRE\n",
      "/Users/raminder/Documents/Data/SHARP/SHARP_P1B_Structural_MRICON_PRE_POST/0021_PRE\n",
      "/Users/raminder/Documents/Data/SHARP/SHARP_P1B_Structural_MRICON_PRE_POST/0022_POST\n",
      "/Users/raminder/Documents/Data/SHARP/SHARP_P1B_Structural_MRICON_PRE_POST/0023_POST\n",
      "/Users/raminder/Documents/Data/SHARP/SHARP_P1B_Structural_MRICON_PRE_POST/0024_POST\n",
      "/Users/raminder/Documents/Data/SHARP/SHARP_P1B_Structural_MRICON_PRE_POST/0024_PRE\n",
      "/Users/raminder/Documents/Data/SHARP/SHARP_P1B_Structural_MRICON_PRE_POST/0025_PRE\n",
      "/Users/raminder/Documents/Data/SHARP/SHARP_P1B_Structural_MRICON_PRE_POST/0026_POST\n",
      "/Users/raminder/Documents/Data/SHARP/SHARP_P1B_Structural_MRICON_PRE_POST/0026_PRE\n",
      "/Users/raminder/Documents/Data/SHARP/SHARP_P1B_Structural_MRICON_PRE_POST/0030_PRE\n",
      "/Users/raminder/Documents/Data/SHARP/SHARP_P1B_Structural_MRICON_PRE_POST/0031_POST\n",
      "/Users/raminder/Documents/Data/SHARP/SHARP_P1B_Structural_MRICON_PRE_POST/0031_PRE\n",
      "/Users/raminder/Documents/Data/SHARP/SHARP_P1B_Structural_MRICON_PRE_POST/0032_PRE\n",
      "/Users/raminder/Documents/Data/SHARP/SHARP_P1B_Structural_MRICON_PRE_POST/0034_POST\n",
      "/Users/raminder/Documents/Data/SHARP/SHARP_P1B_Structural_MRICON_PRE_POST/0034_PRE\n",
      "/Users/raminder/Documents/Data/SHARP/SHARP_P1B_Structural_MRICON_PRE_POST/0037_POST\n",
      "/Users/raminder/Documents/Data/SHARP/SHARP_P1B_Structural_MRICON_PRE_POST/0037_PRE\n",
      "/Users/raminder/Documents/Data/SHARP/SHARP_P1B_Structural_MRICON_PRE_POST/0038_POST\n",
      "/Users/raminder/Documents/Data/SHARP/SHARP_P1B_Structural_MRICON_PRE_POST/0038_PRE\n",
      "/Users/raminder/Documents/Data/SHARP/SHARP_P1B_Structural_MRICON_PRE_POST/0040_POST\n",
      "/Users/raminder/Documents/Data/SHARP/SHARP_P1B_Structural_MRICON_PRE_POST/0040_PRE\n",
      "/Users/raminder/Documents/Data/SHARP/SHARP_P1B_Structural_MRICON_PRE_POST/0041_POST\n",
      "/Users/raminder/Documents/Data/SHARP/SHARP_P1B_Structural_MRICON_PRE_POST/0042_PRE\n",
      "/Users/raminder/Documents/Data/SHARP/SHARP_P1B_Structural_MRICON_PRE_POST/0043_POST\n",
      "/Users/raminder/Documents/Data/SHARP/SHARP_P1B_Structural_MRICON_PRE_POST/0046_PRE\n",
      "/Users/raminder/Documents/Data/SHARP/SHARP_P1B_Structural_MRICON_PRE_POST/0047_PRE\n",
      "/Users/raminder/Documents/Data/SHARP/SHARP_P1B_Structural_MRICON_PRE_POST/0048_POST\n",
      "/Users/raminder/Documents/Data/SHARP/SHARP_P1B_Structural_MRICON_PRE_POST/0051_POST\n",
      "/Users/raminder/Documents/Data/SHARP/SHARP_P1B_Structural_MRICON_PRE_POST/0051_PRE\n",
      "/Users/raminder/Documents/Data/SHARP/SHARP_P1B_Structural_MRICON_PRE_POST/0055_POST\n",
      "/Users/raminder/Documents/Data/SHARP/SHARP_P1B_Structural_MRICON_PRE_POST/0055_PRE\n",
      "/Users/raminder/Documents/Data/SHARP/SHARP_P1B_Structural_MRICON_PRE_POST/0059_PRE\n",
      "/Users/raminder/Documents/Data/SHARP/SHARP_P1B_Structural_MRICON_PRE_POST/0060_PRE\n",
      "/Users/raminder/Documents/Data/SHARP/SHARP_P1B_Structural_MRICON_PRE_POST/0062_PRE\n",
      "/Users/raminder/Documents/Data/SHARP/SHARP_P1B_Structural_MRICON_PRE_POST/0063_POST\n",
      "/Users/raminder/Documents/Data/SHARP/SHARP_P1B_Structural_MRICON_PRE_POST/0063_PRE\n",
      "/Users/raminder/Documents/Data/SHARP/SHARP_P1B_Structural_MRICON_PRE_POST/0065_POST\n",
      "/Users/raminder/Documents/Data/SHARP/SHARP_P1B_Structural_MRICON_PRE_POST/0065_PRE\n",
      "/Users/raminder/Documents/Data/SHARP/SHARP_P1B_Structural_MRICON_PRE_POST/0066_PRE\n",
      "/Users/raminder/Documents/Data/SHARP/SHARP_P1B_Structural_MRICON_PRE_POST/0067_POST\n",
      "/Users/raminder/Documents/Data/SHARP/SHARP_P1B_Structural_MRICON_PRE_POST/0069_POST\n",
      "/Users/raminder/Documents/Data/SHARP/SHARP_P1B_Structural_MRICON_PRE_POST/0069_PRE\n",
      "/Users/raminder/Documents/Data/SHARP/SHARP_P1B_Structural_MRICON_PRE_POST/0070_POST\n",
      "/Users/raminder/Documents/Data/SHARP/SHARP_P1B_Structural_MRICON_PRE_POST/0070_PRE\n",
      "/Users/raminder/Documents/Data/SHARP/SHARP_P1B_Structural_MRICON_PRE_POST/0071_POST\n",
      "/Users/raminder/Documents/Data/SHARP/SHARP_P1B_Structural_MRICON_PRE_POST/0073_PRE\n",
      "/Users/raminder/Documents/Data/SHARP/SHARP_P1B_Structural_MRICON_PRE_POST/0075_POST\n",
      "/Users/raminder/Documents/Data/SHARP/SHARP_P1B_Structural_MRICON_PRE_POST/0075_PRE\n",
      "/Users/raminder/Documents/Data/SHARP/SHARP_P1B_Structural_MRICON_PRE_POST/0080_POST\n",
      "/Users/raminder/Documents/Data/SHARP/SHARP_P1B_Structural_MRICON_PRE_POST/0080_PRE\n",
      "/Users/raminder/Documents/Data/SHARP/SHARP_P1B_Structural_MRICON_PRE_POST/0081_POST\n",
      "/Users/raminder/Documents/Data/SHARP/SHARP_P1B_Structural_MRICON_PRE_POST/0081_PRE\n",
      "/Users/raminder/Documents/Data/SHARP/SHARP_P1B_Structural_MRICON_PRE_POST/0082_POST\n",
      "/Users/raminder/Documents/Data/SHARP/SHARP_P1B_Structural_MRICON_PRE_POST/0082_PRE\n",
      "/Users/raminder/Documents/Data/SHARP/SHARP_P1B_Structural_MRICON_PRE_POST/0083_POST\n",
      "/Users/raminder/Documents/Data/SHARP/SHARP_P1B_Structural_MRICON_PRE_POST/0083_PRE\n",
      "/Users/raminder/Documents/Data/SHARP/SHARP_P1B_Structural_MRICON_PRE_POST/0084_POST\n",
      "/Users/raminder/Documents/Data/SHARP/SHARP_P1B_Structural_MRICON_PRE_POST/0084_PRE\n",
      "/Users/raminder/Documents/Data/SHARP/SHARP_P1B_Structural_MRICON_PRE_POST/0085_POST\n",
      "/Users/raminder/Documents/Data/SHARP/SHARP_P1B_Structural_MRICON_PRE_POST/0085_PRE\n",
      "/Users/raminder/Documents/Data/SHARP/SHARP_P1B_Structural_MRICON_PRE_POST/0090_POST\n",
      "/Users/raminder/Documents/Data/SHARP/SHARP_P1B_Structural_MRICON_PRE_POST/0090_PRE\n",
      "/Users/raminder/Documents/Data/SHARP/SHARP_P1B_Structural_MRICON_PRE_POST/0091_POST\n",
      "/Users/raminder/Documents/Data/SHARP/SHARP_P1B_Structural_MRICON_PRE_POST/0091_PRE\n",
      "/Users/raminder/Documents/Data/SHARP/SHARP_P1B_Structural_MRICON_PRE_POST/0093_PRE\n",
      "/Users/raminder/Documents/Data/SHARP/SHARP_P1B_Structural_MRICON_PRE_POST/0094_POST\n",
      "/Users/raminder/Documents/Data/SHARP/SHARP_P1B_Structural_MRICON_PRE_POST/0094_PRE\n",
      "/Users/raminder/Documents/Data/SHARP/SHARP_P1B_Structural_MRICON_PRE_POST/0095_POST\n",
      "/Users/raminder/Documents/Data/SHARP/SHARP_P1B_Structural_MRICON_PRE_POST/0095_PRE\n",
      "/Users/raminder/Documents/Data/SHARP/SHARP_P1B_Structural_MRICON_PRE_POST/0098_PRE\n",
      "/Users/raminder/Documents/Data/SHARP/SHARP_P1B_Structural_MRICON_PRE_POST/0099_PRE\n",
      "/Users/raminder/Documents/Data/SHARP/SHARP_P1B_Structural_MRICON_PRE_POST/0101_PRE\n",
      "/Users/raminder/Documents/Data/SHARP/SHARP_P1B_Structural_MRICON_PRE_POST/0102_PRE\n",
      "/Users/raminder/Documents/Data/SHARP/SHARP_P1B_Structural_MRICON_PRE_POST/0104_POST\n",
      "/Users/raminder/Documents/Data/SHARP/SHARP_P1B_Structural_MRICON_PRE_POST/0104_PRE\n",
      "/Users/raminder/Documents/Data/SHARP/SHARP_P1B_Structural_MRICON_PRE_POST/0105_POST\n",
      "/Users/raminder/Documents/Data/SHARP/SHARP_P1B_Structural_MRICON_PRE_POST/0105_PRE\n",
      "/Users/raminder/Documents/Data/SHARP/SHARP_P1B_Structural_MRICON_PRE_POST/0107_POST\n",
      "/Users/raminder/Documents/Data/SHARP/SHARP_P1B_Structural_MRICON_PRE_POST/0107_PRE\n",
      "/Users/raminder/Documents/Data/SHARP/SHARP_P1B_Structural_MRICON_PRE_POST/0110_POST\n",
      "/Users/raminder/Documents/Data/SHARP/SHARP_P1B_Structural_MRICON_PRE_POST/0110_PRE\n",
      "/Users/raminder/Documents/Data/SHARP/SHARP_P1B_Structural_MRICON_PRE_POST/0112_POST\n",
      "/Users/raminder/Documents/Data/SHARP/SHARP_P1B_Structural_MRICON_PRE_POST/0112_PRE\n",
      "/Users/raminder/Documents/Data/SHARP/SHARP_P1B_Structural_MRICON_PRE_POST/0113_POST\n",
      "/Users/raminder/Documents/Data/SHARP/SHARP_P1B_Structural_MRICON_PRE_POST/0113_PRE\n",
      "/Users/raminder/Documents/Data/SHARP/SHARP_P1B_Structural_MRICON_PRE_POST/0114_PRE\n",
      "/Users/raminder/Documents/Data/SHARP/SHARP_P1B_Structural_MRICON_PRE_POST/0115_POST\n",
      "/Users/raminder/Documents/Data/SHARP/SHARP_P1B_Structural_MRICON_PRE_POST/0115_PRE\n",
      "/Users/raminder/Documents/Data/SHARP/SHARP_P1B_Structural_MRICON_PRE_POST/0116_POST\n",
      "/Users/raminder/Documents/Data/SHARP/SHARP_P1B_Structural_MRICON_PRE_POST/0116_PRE\n",
      "/Users/raminder/Documents/Data/SHARP/SHARP_P1B_Structural_MRICON_PRE_POST/0117_POST\n",
      "/Users/raminder/Documents/Data/SHARP/SHARP_P1B_Structural_MRICON_PRE_POST/0117_PRE\n",
      "/Users/raminder/Documents/Data/SHARP/SHARP_P1B_Structural_MRICON_PRE_POST/0118_POST\n",
      "/Users/raminder/Documents/Data/SHARP/SHARP_P1B_Structural_MRICON_PRE_POST/0118_PRE\n",
      "/Users/raminder/Documents/Data/SHARP/SHARP_P1B_Structural_MRICON_PRE_POST/0119_POST\n",
      "/Users/raminder/Documents/Data/SHARP/SHARP_P1B_Structural_MRICON_PRE_POST/0119_PRE\n",
      "/Users/raminder/Documents/Data/SHARP/SHARP_P1B_Structural_MRICON_PRE_POST/0120_POST\n",
      "/Users/raminder/Documents/Data/SHARP/SHARP_P1B_Structural_MRICON_PRE_POST/0120_PRE\n",
      "/Users/raminder/Documents/Data/SHARP/SHARP_P1B_Structural_MRICON_PRE_POST/0123_POST\n",
      "/Users/raminder/Documents/Data/SHARP/SHARP_P1B_Structural_MRICON_PRE_POST/0123_PRE\n",
      "/Users/raminder/Documents/Data/SHARP/SHARP_P1B_Structural_MRICON_PRE_POST/0124_POST\n",
      "/Users/raminder/Documents/Data/SHARP/SHARP_P1B_Structural_MRICON_PRE_POST/0124_PRE\n",
      "/Users/raminder/Documents/Data/SHARP/SHARP_P1B_Structural_MRICON_PRE_POST/0125_POST\n",
      "/Users/raminder/Documents/Data/SHARP/SHARP_P1B_Structural_MRICON_PRE_POST/0125_PRE\n",
      "/Users/raminder/Documents/Data/SHARP/SHARP_P1B_Structural_MRICON_PRE_POST/0126_POST\n",
      "/Users/raminder/Documents/Data/SHARP/SHARP_P1B_Structural_MRICON_PRE_POST/0126_PRE\n",
      "/Users/raminder/Documents/Data/SHARP/SHARP_P1B_Structural_MRICON_PRE_POST/0127_PRE\n",
      "/Users/raminder/Documents/Data/SHARP/SHARP_P1B_Structural_MRICON_PRE_POST/0128_POST\n",
      "/Users/raminder/Documents/Data/SHARP/SHARP_P1B_Structural_MRICON_PRE_POST/0128_PRE\n",
      "/Users/raminder/Documents/Data/SHARP/SHARP_P1B_Structural_MRICON_PRE_POST/0129_POST\n",
      "/Users/raminder/Documents/Data/SHARP/SHARP_P1B_Structural_MRICON_PRE_POST/0129_PRE\n",
      "/Users/raminder/Documents/Data/SHARP/SHARP_P1B_Structural_MRICON_PRE_POST/0131_POST\n",
      "/Users/raminder/Documents/Data/SHARP/SHARP_P1B_Structural_MRICON_PRE_POST/0131_PRE\n",
      "/Users/raminder/Documents/Data/SHARP/SHARP_P1B_Structural_MRICON_PRE_POST/0132_PRE\n"
     ]
    }
   ],
   "source": [
    "import glob\n",
    "files = glob.glob('/Users/raminder/Documents/Data/SHARP/SHARP_P1B_Structural_MRICON_PRE_POST/*')\n",
    "for k in files:\n",
    "    print(k)"
   ]
  },
  {
   "cell_type": "code",
   "execution_count": 11,
   "metadata": {},
   "outputs": [],
   "source": [
    "allscans = experiment.scan('2').resource('MRI_CONVERT').file('0001_POST.nii.gz').insert('/Users/raminder/Documents/Data/SHARP/SHARP_P1B_Structural_MRICON_PRE_POST/0001_POST/0001_POST.nii.gz', ontent='mri_convert',format='NIFTI',tags='mri_convert,structural,nii')"
   ]
  },
  {
   "cell_type": "code",
   "execution_count": 9,
   "metadata": {},
   "outputs": [
    {
     "name": "stdout",
     "output_type": "stream",
     "text": [
      "<Scan Object> 2\n"
     ]
    }
   ],
   "source": [
    "print allscans"
   ]
  },
  {
   "cell_type": "code",
   "execution_count": null,
   "metadata": {
    "collapsed": true
   },
   "outputs": [],
   "source": [
    "lines = open('/Users/raminder/Documents/Work/MRIConvert/list_few.txt').read().splitlines()\n",
    "for k in lines:\n",
    "    print(k)\n",
    "    subject = project.subject(k)\n",
    "    subject.create()\n",
    "    print('Created Subject' + k + ' Success: '+ subject.exists())\n",
    "    if(subject.exists()):\n",
    "        allscans = experiment.scan('2').resource('MRI_CONVERT').file(k+'.nii.gz').insert('/Users/raminder/Documents/Data/SHARP/SHARP_P1B_Structural_MRICON_PRE_POST/'+k+'/'k+'.nii.gz', ontent='mri_convert',format='NIFTI',tags='mri_convert,structural,nii') \n",
    "    else:\n",
    "        print('subject not exists')\n",
    "    "
   ]
  }
 ],
 "metadata": {
  "kernelspec": {
   "display_name": "Python 2",
   "language": "python",
   "name": "python2"
  },
  "language_info": {
   "codemirror_mode": {
    "name": "ipython",
    "version": 2
   },
   "file_extension": ".py",
   "mimetype": "text/x-python",
   "name": "python",
   "nbconvert_exporter": "python",
   "pygments_lexer": "ipython2",
   "version": "2.7.13"
  }
 },
 "nbformat": 4,
 "nbformat_minor": 2
}
