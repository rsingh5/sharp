{
 "cells": [
  {
   "cell_type": "markdown",
   "metadata": {},
   "source": [
    "# Working with XNAT using PyXNAT"
   ]
  },
  {
   "cell_type": "markdown",
   "metadata": {},
   "source": [
    "### Download PyXNAT Module"
   ]
  },
  {
   "cell_type": "code",
   "execution_count": null,
   "metadata": {
    "collapsed": true
   },
   "outputs": [],
   "source": [
    "!pip install pyxnat"
   ]
  },
  {
   "cell_type": "markdown",
   "metadata": {},
   "source": [
    "#### Connect to server: Enter user : password "
   ]
  },
  {
   "cell_type": "code",
   "execution_count": 11,
   "metadata": {},
   "outputs": [
    {
     "name": "stdout",
     "output_type": "stream",
     "text": [
      "User: admin\n",
      "········\n"
     ]
    },
    {
     "data": {
      "text/plain": [
       "['AUTISM',\n",
       " 'BROAD',\n",
       " 'Dystonia',\n",
       " 'FOG_KOREA',\n",
       " 'GrafmanLesion',\n",
       " 'MCI',\n",
       " 'TMS_DEPRESSION']"
      ]
     },
     "execution_count": 11,
     "metadata": {},
     "output_type": "execute_result"
    }
   ],
   "source": [
    "import pyxnat\n",
    "import os\n",
    "\n",
    "# connect to XNAT instance\n",
    "from pyxnat import Interface\n",
    "xnat = Interface(server='http://xnat.bidmc.harvard.edu:8080',  cachedir='/tmp')\n",
    "xnat.select.projects().get()"
   ]
  },
  {
   "cell_type": "markdown",
   "metadata": {},
   "source": [
    "### Different types of datatypes supported by XNAT"
   ]
  },
  {
   "cell_type": "code",
   "execution_count": 50,
   "metadata": {},
   "outputs": [
    {
     "data": {
      "text/plain": [
       "['xnat:qcAssessmentData',\n",
       " 'xnat:investigatorData',\n",
       " 'xnat:qcManualAssessorData',\n",
       " 'xnat:petmrSessionData',\n",
       " 'xnat:rtImageScanData',\n",
       " 'xnat:subjectData',\n",
       " 'xnat:crSessionData',\n",
       " 'val:protocolData',\n",
       " 'xnat:petSessionData',\n",
       " 'xnat:pVisitData',\n",
       " 'xnat:mrSessionData',\n",
       " 'xnat:ctSessionData',\n",
       " 'xnat:projectData',\n",
       " 'behavioral:scores']"
      ]
     },
     "execution_count": 50,
     "metadata": {},
     "output_type": "execute_result"
    }
   ],
   "source": [
    "xnat.inspect.datatypes()"
   ]
  },
  {
   "cell_type": "code",
   "execution_count": 51,
   "metadata": {},
   "outputs": [
    {
     "data": {
      "text/plain": [
       "<Collection Object> 4482961104"
      ]
     },
     "execution_count": 51,
     "metadata": {},
     "output_type": "execute_result"
    }
   ],
   "source": [
    "xnat.select('/projects/Dystonia/subjects')"
   ]
  },
  {
   "cell_type": "code",
   "execution_count": 12,
   "metadata": {},
   "outputs": [
    {
     "name": "stdout",
     "output_type": "stream",
     "text": [
      "<Project Object> GrafmanLesion\n"
     ]
    }
   ],
   "source": [
    "project = xnat.select.project('GrafmanLesion')\n",
    "print(project)"
   ]
  },
  {
   "cell_type": "code",
   "execution_count": 13,
   "metadata": {
    "collapsed": true
   },
   "outputs": [],
   "source": [
    "subject =project.subject('0012')"
   ]
  },
  {
   "cell_type": "code",
   "execution_count": 8,
   "metadata": {},
   "outputs": [],
   "source": [
    "import glob\n",
    "files = glob.glob('/Users/raminder/Documents/Work/Lesion/lesions/*.nii.gz')"
   ]
  },
  {
   "cell_type": "code",
   "execution_count": 9,
   "metadata": {},
   "outputs": [
    {
     "name": "stdout",
     "output_type": "stream",
     "text": [
      "/Users/raminder/Documents/Work/Lesion/lesions/0005.nii.gz\n",
      "/Users/raminder/Documents/Work/Lesion/lesions/0010.nii.gz\n",
      "/Users/raminder/Documents/Work/Lesion/lesions/0012.nii.gz\n",
      "/Users/raminder/Documents/Work/Lesion/lesions/0044.nii.gz\n",
      "/Users/raminder/Documents/Work/Lesion/lesions/0071.nii.gz\n",
      "/Users/raminder/Documents/Work/Lesion/lesions/0103.nii.gz\n",
      "/Users/raminder/Documents/Work/Lesion/lesions/0104.nii.gz\n",
      "/Users/raminder/Documents/Work/Lesion/lesions/0107.nii.gz\n",
      "/Users/raminder/Documents/Work/Lesion/lesions/0142.nii.gz\n",
      "/Users/raminder/Documents/Work/Lesion/lesions/0143.nii.gz\n",
      "/Users/raminder/Documents/Work/Lesion/lesions/0147.nii.gz\n",
      "/Users/raminder/Documents/Work/Lesion/lesions/0168.nii.gz\n",
      "/Users/raminder/Documents/Work/Lesion/lesions/0173.nii.gz\n",
      "/Users/raminder/Documents/Work/Lesion/lesions/0181.nii.gz\n",
      "/Users/raminder/Documents/Work/Lesion/lesions/0182.nii.gz\n",
      "/Users/raminder/Documents/Work/Lesion/lesions/0191.nii.gz\n",
      "/Users/raminder/Documents/Work/Lesion/lesions/0194.nii.gz\n",
      "/Users/raminder/Documents/Work/Lesion/lesions/0203.nii.gz\n",
      "/Users/raminder/Documents/Work/Lesion/lesions/0215.nii.gz\n",
      "/Users/raminder/Documents/Work/Lesion/lesions/0230.nii.gz\n",
      "/Users/raminder/Documents/Work/Lesion/lesions/0257.nii.gz\n",
      "/Users/raminder/Documents/Work/Lesion/lesions/0261.nii.gz\n",
      "/Users/raminder/Documents/Work/Lesion/lesions/0267.nii.gz\n",
      "/Users/raminder/Documents/Work/Lesion/lesions/0276.nii.gz\n",
      "/Users/raminder/Documents/Work/Lesion/lesions/0291.nii.gz\n",
      "/Users/raminder/Documents/Work/Lesion/lesions/0296.nii.gz\n",
      "/Users/raminder/Documents/Work/Lesion/lesions/0304.nii.gz\n",
      "/Users/raminder/Documents/Work/Lesion/lesions/0305.nii.gz\n",
      "/Users/raminder/Documents/Work/Lesion/lesions/0309.nii.gz\n",
      "/Users/raminder/Documents/Work/Lesion/lesions/0318.nii.gz\n",
      "/Users/raminder/Documents/Work/Lesion/lesions/0348.nii.gz\n",
      "/Users/raminder/Documents/Work/Lesion/lesions/0355.nii.gz\n",
      "/Users/raminder/Documents/Work/Lesion/lesions/0372.nii.gz\n",
      "/Users/raminder/Documents/Work/Lesion/lesions/0377.nii.gz\n",
      "/Users/raminder/Documents/Work/Lesion/lesions/0396.nii.gz\n",
      "/Users/raminder/Documents/Work/Lesion/lesions/0408.nii.gz\n",
      "/Users/raminder/Documents/Work/Lesion/lesions/0413.nii.gz\n",
      "/Users/raminder/Documents/Work/Lesion/lesions/0422.nii.gz\n",
      "/Users/raminder/Documents/Work/Lesion/lesions/0428.nii.gz\n",
      "/Users/raminder/Documents/Work/Lesion/lesions/0430.nii.gz\n",
      "/Users/raminder/Documents/Work/Lesion/lesions/0434.nii.gz\n",
      "/Users/raminder/Documents/Work/Lesion/lesions/0439.nii.gz\n",
      "/Users/raminder/Documents/Work/Lesion/lesions/0453.nii.gz\n",
      "/Users/raminder/Documents/Work/Lesion/lesions/0473.nii.gz\n",
      "/Users/raminder/Documents/Work/Lesion/lesions/0479.nii.gz\n",
      "/Users/raminder/Documents/Work/Lesion/lesions/0491.nii.gz\n",
      "/Users/raminder/Documents/Work/Lesion/lesions/0495.nii.gz\n",
      "/Users/raminder/Documents/Work/Lesion/lesions/0515.nii.gz\n",
      "/Users/raminder/Documents/Work/Lesion/lesions/0523.nii.gz\n",
      "/Users/raminder/Documents/Work/Lesion/lesions/0524.nii.gz\n",
      "/Users/raminder/Documents/Work/Lesion/lesions/0528.nii.gz\n",
      "/Users/raminder/Documents/Work/Lesion/lesions/0529.nii.gz\n",
      "/Users/raminder/Documents/Work/Lesion/lesions/1003.nii.gz\n",
      "/Users/raminder/Documents/Work/Lesion/lesions/1016.nii.gz\n",
      "/Users/raminder/Documents/Work/Lesion/lesions/1024.nii.gz\n",
      "/Users/raminder/Documents/Work/Lesion/lesions/1025.nii.gz\n",
      "/Users/raminder/Documents/Work/Lesion/lesions/1027.nii.gz\n",
      "/Users/raminder/Documents/Work/Lesion/lesions/1039.nii.gz\n",
      "/Users/raminder/Documents/Work/Lesion/lesions/1052.nii.gz\n",
      "/Users/raminder/Documents/Work/Lesion/lesions/1055.nii.gz\n",
      "/Users/raminder/Documents/Work/Lesion/lesions/1061.nii.gz\n",
      "/Users/raminder/Documents/Work/Lesion/lesions/1062.nii.gz\n",
      "/Users/raminder/Documents/Work/Lesion/lesions/1068.nii.gz\n",
      "/Users/raminder/Documents/Work/Lesion/lesions/1081.nii.gz\n",
      "/Users/raminder/Documents/Work/Lesion/lesions/1092.nii.gz\n",
      "/Users/raminder/Documents/Work/Lesion/lesions/1095.nii.gz\n",
      "/Users/raminder/Documents/Work/Lesion/lesions/1107.nii.gz\n",
      "/Users/raminder/Documents/Work/Lesion/lesions/1124.nii.gz\n",
      "/Users/raminder/Documents/Work/Lesion/lesions/1127.nii.gz\n",
      "/Users/raminder/Documents/Work/Lesion/lesions/1149.nii.gz\n",
      "/Users/raminder/Documents/Work/Lesion/lesions/1156.nii.gz\n",
      "/Users/raminder/Documents/Work/Lesion/lesions/1174.nii.gz\n",
      "/Users/raminder/Documents/Work/Lesion/lesions/1180.nii.gz\n",
      "/Users/raminder/Documents/Work/Lesion/lesions/1184.nii.gz\n",
      "/Users/raminder/Documents/Work/Lesion/lesions/1187.nii.gz\n",
      "/Users/raminder/Documents/Work/Lesion/lesions/1193.nii.gz\n",
      "/Users/raminder/Documents/Work/Lesion/lesions/1206.nii.gz\n",
      "/Users/raminder/Documents/Work/Lesion/lesions/1209.nii.gz\n",
      "/Users/raminder/Documents/Work/Lesion/lesions/1214.nii.gz\n",
      "/Users/raminder/Documents/Work/Lesion/lesions/1216.nii.gz\n",
      "/Users/raminder/Documents/Work/Lesion/lesions/1222.nii.gz\n",
      "/Users/raminder/Documents/Work/Lesion/lesions/1232.nii.gz\n",
      "/Users/raminder/Documents/Work/Lesion/lesions/1235.nii.gz\n",
      "/Users/raminder/Documents/Work/Lesion/lesions/1243.nii.gz\n",
      "/Users/raminder/Documents/Work/Lesion/lesions/1264.nii.gz\n",
      "/Users/raminder/Documents/Work/Lesion/lesions/1265.nii.gz\n",
      "/Users/raminder/Documents/Work/Lesion/lesions/1268.nii.gz\n",
      "/Users/raminder/Documents/Work/Lesion/lesions/1269.nii.gz\n",
      "/Users/raminder/Documents/Work/Lesion/lesions/1273.nii.gz\n",
      "/Users/raminder/Documents/Work/Lesion/lesions/1288.nii.gz\n",
      "/Users/raminder/Documents/Work/Lesion/lesions/1298.nii.gz\n",
      "/Users/raminder/Documents/Work/Lesion/lesions/1308.nii.gz\n",
      "/Users/raminder/Documents/Work/Lesion/lesions/1310.nii.gz\n",
      "/Users/raminder/Documents/Work/Lesion/lesions/1324.nii.gz\n",
      "/Users/raminder/Documents/Work/Lesion/lesions/1331.nii.gz\n",
      "/Users/raminder/Documents/Work/Lesion/lesions/1341.nii.gz\n",
      "/Users/raminder/Documents/Work/Lesion/lesions/1342.nii.gz\n",
      "/Users/raminder/Documents/Work/Lesion/lesions/1347.nii.gz\n",
      "/Users/raminder/Documents/Work/Lesion/lesions/1356.nii.gz\n",
      "/Users/raminder/Documents/Work/Lesion/lesions/1364.nii.gz\n",
      "/Users/raminder/Documents/Work/Lesion/lesions/1366.nii.gz\n",
      "/Users/raminder/Documents/Work/Lesion/lesions/1369.nii.gz\n",
      "/Users/raminder/Documents/Work/Lesion/lesions/1375.nii.gz\n",
      "/Users/raminder/Documents/Work/Lesion/lesions/1387.nii.gz\n",
      "/Users/raminder/Documents/Work/Lesion/lesions/1389.nii.gz\n",
      "/Users/raminder/Documents/Work/Lesion/lesions/1407.nii.gz\n",
      "/Users/raminder/Documents/Work/Lesion/lesions/1423.nii.gz\n",
      "/Users/raminder/Documents/Work/Lesion/lesions/1433.nii.gz\n",
      "/Users/raminder/Documents/Work/Lesion/lesions/1434.nii.gz\n",
      "/Users/raminder/Documents/Work/Lesion/lesions/1443.nii.gz\n",
      "/Users/raminder/Documents/Work/Lesion/lesions/1448.nii.gz\n",
      "/Users/raminder/Documents/Work/Lesion/lesions/1461.nii.gz\n",
      "/Users/raminder/Documents/Work/Lesion/lesions/1509.nii.gz\n",
      "/Users/raminder/Documents/Work/Lesion/lesions/1510.nii.gz\n",
      "/Users/raminder/Documents/Work/Lesion/lesions/1519.nii.gz\n",
      "/Users/raminder/Documents/Work/Lesion/lesions/1558.nii.gz\n",
      "/Users/raminder/Documents/Work/Lesion/lesions/1561.nii.gz\n",
      "/Users/raminder/Documents/Work/Lesion/lesions/1570.nii.gz\n",
      "/Users/raminder/Documents/Work/Lesion/lesions/1580.nii.gz\n",
      "/Users/raminder/Documents/Work/Lesion/lesions/1585.nii.gz\n",
      "/Users/raminder/Documents/Work/Lesion/lesions/1595.nii.gz\n",
      "/Users/raminder/Documents/Work/Lesion/lesions/1599.nii.gz\n",
      "/Users/raminder/Documents/Work/Lesion/lesions/1621.nii.gz\n",
      "/Users/raminder/Documents/Work/Lesion/lesions/1631.nii.gz\n",
      "/Users/raminder/Documents/Work/Lesion/lesions/1643.nii.gz\n",
      "/Users/raminder/Documents/Work/Lesion/lesions/1662.nii.gz\n",
      "/Users/raminder/Documents/Work/Lesion/lesions/1694.nii.gz\n",
      "/Users/raminder/Documents/Work/Lesion/lesions/1701.nii.gz\n",
      "/Users/raminder/Documents/Work/Lesion/lesions/1711.nii.gz\n",
      "/Users/raminder/Documents/Work/Lesion/lesions/1715.nii.gz\n",
      "/Users/raminder/Documents/Work/Lesion/lesions/1734.nii.gz\n",
      "/Users/raminder/Documents/Work/Lesion/lesions/1741.nii.gz\n",
      "/Users/raminder/Documents/Work/Lesion/lesions/2005.nii.gz\n",
      "/Users/raminder/Documents/Work/Lesion/lesions/2028.nii.gz\n",
      "/Users/raminder/Documents/Work/Lesion/lesions/2034.nii.gz\n",
      "/Users/raminder/Documents/Work/Lesion/lesions/2068.nii.gz\n",
      "/Users/raminder/Documents/Work/Lesion/lesions/2076.nii.gz\n",
      "/Users/raminder/Documents/Work/Lesion/lesions/2097.nii.gz\n",
      "/Users/raminder/Documents/Work/Lesion/lesions/2101.nii.gz\n",
      "/Users/raminder/Documents/Work/Lesion/lesions/2104.nii.gz\n",
      "/Users/raminder/Documents/Work/Lesion/lesions/2106.nii.gz\n",
      "/Users/raminder/Documents/Work/Lesion/lesions/2108.nii.gz\n",
      "/Users/raminder/Documents/Work/Lesion/lesions/2115.nii.gz\n",
      "/Users/raminder/Documents/Work/Lesion/lesions/2116.nii.gz\n",
      "/Users/raminder/Documents/Work/Lesion/lesions/2117.nii.gz\n",
      "/Users/raminder/Documents/Work/Lesion/lesions/2122.nii.gz\n",
      "/Users/raminder/Documents/Work/Lesion/lesions/2130.nii.gz\n",
      "/Users/raminder/Documents/Work/Lesion/lesions/2132.nii.gz\n",
      "/Users/raminder/Documents/Work/Lesion/lesions/2135.nii.gz\n",
      "/Users/raminder/Documents/Work/Lesion/lesions/2140.nii.gz\n",
      "/Users/raminder/Documents/Work/Lesion/lesions/2145.nii.gz\n",
      "/Users/raminder/Documents/Work/Lesion/lesions/2146.nii.gz\n",
      "/Users/raminder/Documents/Work/Lesion/lesions/2147.nii.gz\n",
      "/Users/raminder/Documents/Work/Lesion/lesions/2151.nii.gz\n",
      "/Users/raminder/Documents/Work/Lesion/lesions/2164.nii.gz\n",
      "/Users/raminder/Documents/Work/Lesion/lesions/2169.nii.gz\n",
      "/Users/raminder/Documents/Work/Lesion/lesions/2182.nii.gz\n",
      "/Users/raminder/Documents/Work/Lesion/lesions/2186.nii.gz\n",
      "/Users/raminder/Documents/Work/Lesion/lesions/2191.nii.gz\n",
      "/Users/raminder/Documents/Work/Lesion/lesions/2196.nii.gz\n",
      "/Users/raminder/Documents/Work/Lesion/lesions/2212.nii.gz\n",
      "/Users/raminder/Documents/Work/Lesion/lesions/2218.nii.gz\n",
      "/Users/raminder/Documents/Work/Lesion/lesions/2221.nii.gz\n",
      "/Users/raminder/Documents/Work/Lesion/lesions/2222.nii.gz\n",
      "/Users/raminder/Documents/Work/Lesion/lesions/2252.nii.gz\n",
      "/Users/raminder/Documents/Work/Lesion/lesions/2288.nii.gz\n",
      "/Users/raminder/Documents/Work/Lesion/lesions/2304.nii.gz\n",
      "/Users/raminder/Documents/Work/Lesion/lesions/2306.nii.gz\n",
      "/Users/raminder/Documents/Work/Lesion/lesions/2309.nii.gz\n",
      "/Users/raminder/Documents/Work/Lesion/lesions/2320.nii.gz\n",
      "/Users/raminder/Documents/Work/Lesion/lesions/2323.nii.gz\n",
      "/Users/raminder/Documents/Work/Lesion/lesions/2332.nii.gz\n",
      "/Users/raminder/Documents/Work/Lesion/lesions/2341.nii.gz\n",
      "/Users/raminder/Documents/Work/Lesion/lesions/2351.nii.gz\n",
      "/Users/raminder/Documents/Work/Lesion/lesions/2354.nii.gz\n",
      "/Users/raminder/Documents/Work/Lesion/lesions/2379.nii.gz\n",
      "/Users/raminder/Documents/Work/Lesion/lesions/2386.nii.gz\n",
      "/Users/raminder/Documents/Work/Lesion/lesions/2391.nii.gz\n",
      "/Users/raminder/Documents/Work/Lesion/lesions/2392.nii.gz\n",
      "/Users/raminder/Documents/Work/Lesion/lesions/2438.nii.gz\n",
      "/Users/raminder/Documents/Work/Lesion/lesions/2442.nii.gz\n",
      "/Users/raminder/Documents/Work/Lesion/lesions/2455.nii.gz\n",
      "/Users/raminder/Documents/Work/Lesion/lesions/2464.nii.gz\n",
      "/Users/raminder/Documents/Work/Lesion/lesions/2466.nii.gz\n",
      "/Users/raminder/Documents/Work/Lesion/lesions/2475.nii.gz\n",
      "/Users/raminder/Documents/Work/Lesion/lesions/2480.nii.gz\n",
      "/Users/raminder/Documents/Work/Lesion/lesions/2520.nii.gz\n",
      "/Users/raminder/Documents/Work/Lesion/lesions/3003.nii.gz\n",
      "/Users/raminder/Documents/Work/Lesion/lesions/3013.nii.gz\n",
      "/Users/raminder/Documents/Work/Lesion/lesions/3022.nii.gz\n",
      "/Users/raminder/Documents/Work/Lesion/lesions/3024.nii.gz\n",
      "/Users/raminder/Documents/Work/Lesion/lesions/3052.nii.gz\n",
      "/Users/raminder/Documents/Work/Lesion/lesions/3054.nii.gz\n",
      "/Users/raminder/Documents/Work/Lesion/lesions/3068.nii.gz\n",
      "/Users/raminder/Documents/Work/Lesion/lesions/3081.nii.gz\n",
      "/Users/raminder/Documents/Work/Lesion/lesions/3092.nii.gz\n",
      "/Users/raminder/Documents/Work/Lesion/lesions/3110.nii.gz\n",
      "/Users/raminder/Documents/Work/Lesion/lesions/3120.nii.gz\n",
      "/Users/raminder/Documents/Work/Lesion/lesions/3125.nii.gz\n",
      "/Users/raminder/Documents/Work/Lesion/lesions/3126.nii.gz\n",
      "/Users/raminder/Documents/Work/Lesion/lesions/3152.nii.gz\n",
      "/Users/raminder/Documents/Work/Lesion/lesions/3175.nii.gz\n",
      "/Users/raminder/Documents/Work/Lesion/lesions/3197.nii.gz\n",
      "/Users/raminder/Documents/Work/Lesion/lesions/3201.nii.gz\n"
     ]
    }
   ],
   "source": [
    "for k in files:\n",
    "    print(k)"
   ]
  },
  {
   "cell_type": "markdown",
   "metadata": {},
   "source": [
    "### Uploading Processed Data"
   ]
  },
  {
   "cell_type": "code",
   "execution_count": null,
   "metadata": {},
   "outputs": [],
   "source": [
    "lines = open('/Users/raminder/Documents/Work/Lesion/list.txt').read().splitlines()\n",
    "for k in lines:\n",
    "    print(k)\n",
    "    subject = project.subject(k)\n",
    "    subject.create()\n",
    "    print('Created Subject' + k + ' Success: '+ subject.exists())\n",
    "    if(subject.exists()):\n",
    "        subject.resource('NIFTI').file(k+'.nii.gz').insert('/Users/raminder/Documents/Work/Lesion/lesions/'+k+'.nii.gz')\n",
    "        subject.resource('NIFTI').file(k+'_func_seed_AvgR.nii.gz').insert('/Users/raminder/Documents/Work/Lesion/connectome_seed/'+k+'_func_seed_AvgR.nii.gz')\n",
    "        subject.resource('NIFTI').file(k+'_func_seed_AvgR_Fz.nii.gz').insert('/Users/raminder/Documents/Work/Lesion/connectome_seed/'+k+'_func_seed_AvgR_Fz.nii.gz')\n",
    "        subject.resource('NIFTI').file(k+'_func_seed_AvgR_Fz_surf_lh.nii.gz').insert('/Users/raminder/Documents/Work/Lesion/connectome_seed/'+k+'_func_seed_AvgR_Fz_surf_lh.nii.gz')\n",
    "        subject.resource('NIFTI').file(k+'_func_seed_AvgR_Fz_surf_rh.nii.gz').insert('/Users/raminder/Documents/Work/Lesion/connectome_seed/'+k+'_func_seed_AvgR_Fz_surf_rh.nii.gz')\n",
    "        subject.resource('NIFTI').file(k+'_func_seed_AvgR_surf_lh.nii.gz').insert('/Users/raminder/Documents/Work/Lesion/connectome_seed/'+k+'_func_seed_AvgR_surf_lh.nii.gz')\n",
    "        subject.resource('NIFTI').file(k+'_func_seed_AvgR_surf_rh.nii.gz').insert('/Users/raminder/Documents/Work/Lesion/connectome_seed/'+k+'_func_seed_AvgR_surf_rh.nii.gz')\n",
    "        subject.resource('NIFTI').file(k+'_func_seed_T.nii.gz').insert('/Users/raminder/Documents/Work/Lesion/connectome_seed/'+k+'_func_seed_T.nii.gz')\n",
    "        subject.resource('NIFTI').file(k+'_func_seed_T_surf_lh.nii.gz').insert('/Users/raminder/Documents/Work/Lesion/connectome_seed/'+k+'_func_seed_T_surf_lh.nii.gz')\n",
    "        subject.resource('NIFTI').file(k+'_func_seed_T_surf_rh.nii.gz').insert('/Users/raminder/Documents/Work/Lesion/connectome_seed/'+k+'_func_seed_T_surf_rh.nii.gz') \n",
    "    else:\n",
    "        print('subject not exists')\n",
    "    "
   ]
  },
  {
   "cell_type": "code",
   "execution_count": null,
   "metadata": {
    "collapsed": true
   },
   "outputs": [],
   "source": []
  },
  {
   "cell_type": "markdown",
   "metadata": {},
   "source": [
    "### Uploading Processed Data"
   ]
  },
  {
   "cell_type": "code",
   "execution_count": 3,
   "metadata": {
    "collapsed": true
   },
   "outputs": [],
   "source": [
    "subject.resource('NIFTI').file('0012.nii.gz').insert('/Users/raminder/Documents/Work/Lesion/lesions/0012.nii.gz')\n",
    "subject.resource('NIFTI').file('0012_func_seed_AvgR.nii.gz').insert('/Users/raminder/Documents/Work/Lesion/connectome_seed/0012_func_seed_AvgR.nii.gz')\n",
    "subject.resource('NIFTI').file('0012_func_seed_AvgR_Fz.nii.gz').insert('/Users/raminder/Documents/Work/Lesion/connectome_seed/0012_func_seed_AvgR_Fz.nii.gz')\n",
    "subject.resource('NIFTI').file('0012_func_seed_AvgR_Fz_surf_lh.nii.gz').insert('/Users/raminder/Documents/Work/Lesion/connectome_seed/0012_func_seed_AvgR_Fz_surf_lh.nii.gz')\n",
    "subject.resource('NIFTI').file('0012_func_seed_AvgR_Fz_surf_rh.nii.gz').insert('/Users/raminder/Documents/Work/Lesion/connectome_seed/0012_func_seed_AvgR_Fz_surf_rh.nii.gz')\n",
    "subject.resource('NIFTI').file('0012_func_seed_AvgR_surf_lh.nii.gz').insert('/Users/raminder/Documents/Work/Lesion/connectome_seed/0012_func_seed_AvgR_surf_lh.nii.gz')\n",
    "subject.resource('NIFTI').file('0012_func_seed_AvgR_surf_rh.nii.gz').insert('/Users/raminder/Documents/Work/Lesion/connectome_seed/0012_func_seed_AvgR_surf_rh.nii.gz')\n",
    "subject.resource('NIFTI').file('0012_func_seed_T.nii.gz').insert('/Users/raminder/Documents/Work/Lesion/connectome_seed/0012_func_seed_T.nii.gz')\n",
    "subject.resource('NIFTI').file('0012_func_seed_T_surf_lh.nii.gz').insert('/Users/raminder/Documents/Work/Lesion/connectome_seed/0012_func_seed_T_surf_lh.nii.gz')\n",
    "subject.resource('NIFTI').file('0012_func_seed_T_surf_rh.nii.gz').insert('/Users/raminder/Documents/Work/Lesion/connectome_seed/0012_func_seed_T_surf_rh.nii.gz')"
   ]
  },
  {
   "cell_type": "code",
   "execution_count": 4,
   "metadata": {},
   "outputs": [
    {
     "data": {
      "text/plain": [
       "<Collection Object> 4611813840"
      ]
     },
     "execution_count": 4,
     "metadata": {},
     "output_type": "execute_result"
    }
   ],
   "source": [
    "subject.resources().files()"
   ]
  },
  {
   "cell_type": "code",
   "execution_count": null,
   "metadata": {
    "collapsed": true
   },
   "outputs": [],
   "source": [
    "subject.resource('NIFTI').file('0005_func_seed_AvgR.nii.gz').size()"
   ]
  },
  {
   "cell_type": "code",
   "execution_count": null,
   "metadata": {
    "collapsed": true
   },
   "outputs": [],
   "source": [
    "subject.resource('NIFTI').file('0005_func_seed_AvgR.nii.gz').get_copy('/tmp/0005_func_seed_AvgR.nii.gz')"
   ]
  },
  {
   "cell_type": "code",
   "execution_count": null,
   "metadata": {
    "collapsed": true
   },
   "outputs": [],
   "source": [
    "#allscans.download(\"/tmp/.\", type='ALL', extract=False)\n",
    "for scan in allscans:\n",
    "    allscans.download(\"/tmp/.\", type='ALL', extract=True)"
   ]
  },
  {
   "cell_type": "code",
   "execution_count": null,
   "metadata": {
    "collapsed": true
   },
   "outputs": [],
   "source": []
  }
 ],
 "metadata": {
  "kernelspec": {
   "display_name": "Python 2",
   "language": "python",
   "name": "python2"
  },
  "language_info": {
   "codemirror_mode": {
    "name": "ipython",
    "version": 2
   },
   "file_extension": ".py",
   "mimetype": "text/x-python",
   "name": "python",
   "nbconvert_exporter": "python",
   "pygments_lexer": "ipython2",
   "version": "2.7.13"
  }
 },
 "nbformat": 4,
 "nbformat_minor": 2
}
